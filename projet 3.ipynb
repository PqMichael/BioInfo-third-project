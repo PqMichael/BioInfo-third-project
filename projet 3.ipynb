{
 "cells": [
  {
   "cell_type": "markdown",
   "metadata": {},
   "source": [
    "# Mini\tprojet\t3\t:\tPrédiction\tde\tla\tstructure\tsecondaire\tavec\tGOR\n",
    "\n",
    "***\n",
    "\n",
    "**PAQUET Michael (000410753) BA-INFO**"
   ]
  },
  {
   "cell_type": "markdown",
   "metadata": {},
   "source": [
    "# Introduction\n",
    "\n",
    "Dans le milieu biologique, les protéines peuvent être représentées sous différentes structures en fonction de nos besoins.\n",
    "Celles-ci sont connues sont le nom de structure primaire resprésentant les protéines sous forme de chaine d'acides aminés, structure secondaire représentant la protéine sous forme d'α-hélices, de β-brins et de coils. Il existe également les structures tertiaires et quaternaire, mais elles ne feront pas l'objet de cette étude-ci.\n",
    "\n",
    "Afin d'obtenir diverses informations sur une protéine donnée, il est intéressant d'en connaitre sa structure secondaire. C'est pourquoi nous allons parler de methodes nous permettant de prédire cette structure avec un taux d'exactitude relativement élevé. \n",
    "\n",
    "Au cours de ce projet-ci, l'algorithme de GOR III a été choisi afin de répondre à notre problématique. Celui-ci permet théoriquement d'avoir un taux d'exactitude nommé Q3 de 63%. Nous allons donc implémenter GOR III, et sur base de données, allons obtenir des résultats dont nous pourrons finalement discuter. \n",
    "\n",
    "Voici brièvement comment fonctionne GOR III :\n",
    "sur base d'un jeu de donnée, l'algorithme créera un modèle constitué d'informations individuelles et d'informations par pair.\n",
    "- Les informations individuelles sont des propensions représentant \"la chaince qu'un acide aminé R soit de structure S\".\n",
    "- Les informations par pair indiquent le nombre de fois qu'on a croisé un acide aminé Y dans le voisinage de R. \n",
    "\n",
    "Ainsi, lorsque nous parcourrons une protéine donnée, nous ferons appel à notre modèle calculé précédemment afin d'en prédire la structure secondaire. "
   ]
  },
  {
   "cell_type": "markdown",
   "metadata": {},
   "source": [
    "# Implémentation\n",
    "\n",
    "## Parsing des données\n",
    "\n",
    "Avant de commencer à réfléchir sur la façon d'implémenter GOR III, il nous faut tout d'abord collecter de façon intélligente les informations dont nous disposons dans un jeu de donnée. Ce jeu de donnée est composé de 3713 protéines. 3000 d'entre elles serviront à construire notre modèle, tandis que les 713 autres seront soumis à notre algorithme. Afin de simplifier cette collection de donnée, les identifiants de chacune des protéines seront listées dans un fichier texte nommé \"CATH_info\". D'autre part, dans un autre dossier nommé \"dssp\", un fichier texte par protéine dont le nom en est l'identifiant sera présent. \n",
    "\n",
    "Au cours du parsing des données, nous allons donc parcourir CATH_info, et pour chaque identifiant nous parcourrons le fichier de la protéine lié à cet identifiant pour en retirer les informations nous étant utiles. "
   ]
  },
  {
   "cell_type": "code",
   "execution_count": 12,
   "metadata": {},
   "outputs": [],
   "source": [
    "def parsing(myFile):\n",
    "    myfile = open(myFile, \"r\")\n",
    "    for line in myfile:\n",
    "        current = line.replace(\"\\n\", \"\").split(\" \")\n",
    "        ID = current[0][0:4] #ID de la protéine à parser\n",
    "        chaine = current[0][4] #Chaine à regarder uniquement\n",
    "        dsspFile = \"dataset/dssp/\" + ID + \".dssp\"\n",
    "        parsingDSSP(dsspFile, chaine)"
   ]
  },
  {
   "cell_type": "markdown",
   "metadata": {},
   "source": [
    "__Parsing :__\n",
    "\n",
    "A noter que dans CATH_info, deux informations sont présentes mais seule la première nous intéresse. \n",
    "L'information que nous collectons est composé de l'ID de la protéine, ainsi que la chaine à regarder. En effet, il existe des doublons, c'est pourquoi le fichier nous donne en plus de l'ID la chaine à regarder pour chaque protéine. \n",
    "Nous pouvons donc finalement parser le fichiers des protéines."
   ]
  },
  {
   "cell_type": "code",
   "execution_count": 13,
   "metadata": {},
   "outputs": [],
   "source": [
    "def parsingDSSP(myFile, chaine):\n",
    "    myfile = open(myFile, \"r\")\n",
    "    parsedFile = open(\"data.txt\", \"a\")\n",
    "    cList = ['p', 'q', 'n', 'd', 'l', 'e', 'b', 'f', 'o', 'c', 'k', 'r', 'a', 'm', 'h', 'j', 'g', 'i']\n",
    "    dic = {\"H\" : \"H\", \"G\" : \"H\", \"I\" : \"H\", \"E\" : \"E\", \"B\" : \"E\", \"T\" : \"C\", \"C\" : \"C\", \"S\" : \"C\", \" \": \"C\"}\n",
    "    notAA = [\"X\", \"B\", \"Z\"]\n",
    "    sequence = \"\"\n",
    "    structure = \"\"\n",
    "    reading = False\n",
    "    parsedFile.write(\"> identifier|protein name|organism\\n\")\n",
    "    for line in myfile:\n",
    "        if line[0:3] == \"  #\":\n",
    "            reading = True\n",
    "        elif reading:\n",
    "            if line[11] == chaine:\n",
    "                AA = line[13]\n",
    "                if AA in cList:\n",
    "                    AA = \"C\"\n",
    "                if AA not in notAA:\n",
    "                    sequence += AA\n",
    "                    structure += dic[line[16]]\n",
    "    parsedFile.write(sequence)\n",
    "    parsedFile.write(\"\\n\")\n",
    "    parsedFile.write(structure)\n",
    "    parsedFile.write(\"\\n\")"
   ]
  },
  {
   "cell_type": "markdown",
   "metadata": {},
   "source": [
    "__parsingDSSP :__\n",
    "\n",
    "Maintenant qu'on est en sein de notre fichier protéine, il nous faut collecter les informations pertinentes. \n",
    "Dans ce fichier, les données sont structurée de cette façon : \n",
    "- __Numéro de l'AA - Résidu - AA - Structure__, où \"-\" représente un espace. \n",
    "\n",
    "D'autres informations sont également présentes, mais sont inutiles dans le cadre de notre projet. Seuls l'acide aminé et sa structure nous intéressent ici.\n",
    "\n",
    "A noter que les lettres minuscules sencés représenter un AA seront remplacées par une Cystéine, ce à quoi sert __cList__.\n",
    "__dico__ nous permet d'associer la structure collectée aux 3 structures principales. En effet, les fichiers présentent plusieurs structures secondaires mais seuls les hélices, les brins et les coils nous intéressent ici. \n",
    "Enfin, __notAA__ nous permet de ne pas prendre en compte certaine lettres ne représentant pas un AA. \n",
    "\n",
    "Tous ces objets nous permettent au final de collecter l'AA et sa structure secondaire associée, afin de les garder dans un fichier nommé \"data.txt\". Ce fichier sera construit comme tel : pour chaque acide aminé : \n",
    "- \\> identifiant\n",
    "- chaine d'AA\n",
    "- structures secondaires associées à chaque AA\n",
    "\n",
    "Voici à titre d'exemple une illustration de ce que donne le fichier \"data.txt\" pour la première protéine listée dans CATH_info. "
   ]
  },
  {
   "cell_type": "code",
   "execution_count": 19,
   "metadata": {},
   "outputs": [
    {
     "name": "stdout",
     "output_type": "stream",
     "text": [
      "Les données sont déjà collectées\n",
      "\n",
      "> identifier|protein name|organism\n",
      "RTDCYGNVNRIDTTGASCKTAKPEGLSYCGVSASKKIAERDLQAMDRYKTIIKKVGEKLCVEPAVIAGIISRESHAGKVLKNGWGDRGNGFGLMQVDKRSHKPQGTWNGEVHITQGTTILINFIKTIQKKFPSWTKDQQLKGGISAYNAGAGNVRSYARMDIGTTHDDYANDVVARAQYYKQHGY\n",
      "CCCCCCCHHHCCCCCECHHHHHHHCCCCCEHHHHHHHHHHCHHHHHCCHHHHHHHHHHHCCCHHHHHHHHHHHHCCCCCCECCECCCCCEECCCCEECCCCCCCCCCCCHHHHHHHHHHHHHHHHHHHHHCCCCCHHHHHHHHHHHHHHCHHHCCCCCCCCCCCHHHCHHHHHHHHHHHHHHCCC\n"
     ]
    }
   ],
   "source": [
    "def main():\n",
    "    try:\n",
    "        open(\"data.txt\", \"r\")\n",
    "        print(\"Les données sont déjà collectées\\n\")\n",
    "    except:\n",
    "        print(\"Parsing des données en cours\")\n",
    "        myFile = \"dataset/CATH_info.txt\"\n",
    "        parsing(myFile)\n",
    "    printedFile = open(\"data.txt\", \"r\")\n",
    "    i = 0\n",
    "    for line in printedFile:\n",
    "        print(line, end = \"\")\n",
    "        i+= 1\n",
    "        if i == 3:\n",
    "            break\n",
    "            \n",
    "main()"
   ]
  },
  {
   "cell_type": "markdown",
   "metadata": {},
   "source": [
    "## GOR III\n",
    "\n",
    "Maintenant que nous avons collecté toutes les données nécessaires à la construction de notre modèle, il est temps de réfléchir à l'implémentation de GOR III.\n",
    "\n",
    "Nous en avons parlé plus tôt, GOR III se base sur deux informations : information individuelle et par pair.\n",
    "\n",
    "__Informations individuelles :__\n",
    "\n",
    "Afin d'avoir les propenstions individuelles, nous parcourrons notre fichier \"data\" et pour chaque protéine, nous allons compter le nombre de fois qu'un acide aminé __R__ est de structure __S__.\n",
    "\n",
    "__Informations par pair :__\n",
    "\n",
    "Lors du même parcours que celui des informations individuelles, un parcours du voisinage de l'acide aminé __R__ est effectué. La fenêtre que nous parcourrons sera d'une taille 16 sans compter __R__.\n",
    "\n",
    "$$\\cdot \\cdot[ \\cdot \\cdot \\cdot \\cdot \\cdot \\cdot \\cdot \\cdot R \\cdot \\cdot \\cdot \\cdot \\cdot \\cdot \\cdot \\cdot]\\cdot \\cdot$$\n",
    "\n",
    "Ainsi, si nous croisons l'acide aminé __Y__ lors du parcours de la fenêtre de __R__, et que __R__ est de structure __S__ :\n",
    "\n",
    "$$\\cdot \\cdot[ Y \\cdot \\cdot \\cdot \\cdot \\cdot \\cdot \\cdot R \\cdot \\cdot \\cdot \\cdot \\cdot \\cdot \\cdot \\cdot]\\cdot \\cdot$$\n",
    "\n",
    "Alors on incrémente un compteur qui nous informe qu'__Y__ a été rencontré dans le voisinage de __R__ avec une structure __S__. Cette opération est itérée pour chaque acide aminé dans la fenêtre de __R__."
   ]
  },
  {
   "cell_type": "code",
   "execution_count": 30,
   "metadata": {},
   "outputs": [],
   "source": [
    "from math import log10, sqrt\n",
    "from statistics import mean\n",
    "\n",
    "NBV = 16\n",
    "\n",
    "def readData(myFile):\n",
    "    myfile = open(myFile, \"r\")\n",
    "    structList = [\"H\", \"C\", \"E\"]\n",
    "    acidList = \"ARDNCEQGHILKMFPSTWYV\"\n",
    "    struct_count = {\"H\" : 0, \"C\" : 0, \"E\" : 0}\n",
    "    affiliate = {}\n",
    "    voisins = {}\n",
    "    for S in structList:\n",
    "        voisins[S] = {}\n",
    "        for AA in acidList:\n",
    "            voisins[S][AA] = {}\n",
    "            for AA2 in acidList:\n",
    "                voisins[S][AA][AA2] = 0\n",
    "    for R in acidList:\n",
    "        affiliate[R] = {\"H\" : 0, \"C\" : 0, \"E\" : 0}\n",
    "        \n",
    "    i = 0\n",
    "    struct = \"\"\n",
    "    chaine = \"\"\n",
    "    for line in myfile:\n",
    "        if i == 9002:\n",
    "            break\n",
    "        line = line.replace(\"\\n\", \"\")\n",
    "        if i%3 == 1:\n",
    "            chaine = line\n",
    "        elif i%3 == 2:\n",
    "            struct = line\n",
    "        else:\n",
    "            if chaine != \"\":\n",
    "                for j in range(len(chaine)-1):\n",
    "                    struct_count[struct[j]] += 1\n",
    "                    affiliate[chaine[j]][struct[j]] += 1\n",
    "                    for k in range(-8, 9):\n",
    "                        if j+k >= 0 and j+k <= len(chaine)-1 and k!= 0:\n",
    "                            voisins[struct[j]][chaine[j]][chaine[j+k]] += 1\n",
    "\n",
    "            chaine = \"\"\n",
    "            struct = \"\"\n",
    "        i +=1\n",
    "    myfile.close()\n",
    "    return affiliate, voisins, struct_count"
   ]
  },
  {
   "cell_type": "markdown",
   "metadata": {},
   "source": [
    "__readData :__\n",
    "\n",
    "Afin de créer nos compteur, il a été choisi de construire des dictionnaires. Ainsi, __voisin__ contiendra nos compteur pour les informations par pair et __affiliate__ les compteurs pour les informations individuelles. \n",
    "\n",
    "__Exemple d'execution :__ Executons notre code et regardons par exemple combien de fois une Cystéine est en hélice et combien de fois le couple Cystéine-Alanine apparaissent comme étant en brin."
   ]
  },
  {
   "cell_type": "code",
   "execution_count": 32,
   "metadata": {},
   "outputs": [
    {
     "name": "stdout",
     "output_type": "stream",
     "text": [
      "L'acide aminé C est vu 2640 fois étant une hélice.\n",
      "Le couple C-A est vu 14887 fois avec C étant un brin\n"
     ]
    }
   ],
   "source": [
    "indi, voisin, struct = readData(\"data.txt\")\n",
    "print(\"L'acide aminé C est vu\", indi[\"C\"][\"H\"], \"fois étant une hélice.\")\n",
    "print(\"Le couple C-A est vu\", voisin[\"C\"][\"A\"][\"E\"], \"fois avec C étant un brin\")"
   ]
  },
  {
   "cell_type": "markdown",
   "metadata": {},
   "source": [
    "__Propensions :__\n",
    "\n",
    "Une fois les parcours terminés et nos compteurs à jour, ils nous faut calculer la propension à partir de ceux-ci. Voici la formule mathématique nous le permettant : \n",
    "\n",
    "- Probabilité qu'un acide aminé R adopte la structure S :\n",
    "$$I(\\Delta S; R) = I(S; R) - I(n-S; R) = \\log{\\frac{f_{S, R}}{f_{n-S, R}}} + \\log{\\frac{f_{n-S}}{f_{S}}}$$\n",
    "\n",
    "avec __Fs__ la fréquence de la structure, __Fs,r__ la fréquence de l'acide aminé __R__ dans la structure __S__ et __n-S__ les autres structures que __S__.\n",
    "\n",
    "\n",
    "- Probabilité qu'un couple d'acide aminé Rj et Rj+m apparaissent avec pour structure S:\n",
    "$$I(\\Delta S_{j}; R_{j+m}|R_{j}) = \\log{\\frac{f_{S_{j}, R_{j+m}, R_{j}}}{f_{n-S_{j}, R_{j+m}, R_{j}}}} + \\log{\\frac{f_{n-S_{j}, R_{j}}}{f_{S_{j}, R_{j}}}}$$\n",
    "\n",
    "avec __Fsj,rj+m,rj__ la fréquence d'observation de __Rj+m__ et __Rj__ dans une structure __S__ pour -8 <= __m__ <= 8 et __m__ != 0."
   ]
  },
  {
   "cell_type": "code",
   "execution_count": 41,
   "metadata": {
    "collapsed": true
   },
   "outputs": [],
   "source": [
    "def propension(indi, voisins, struct):\n",
    "    affiliate = indi\n",
    "    voisins = voisins\n",
    "    struct_count = struct\n",
    "    structList = [\"H\", \"C\", \"E\"]\n",
    "    acidList = \"ARDNCEQGHILKMFPSTWYV\"\n",
    "    probaVoisins = {}\n",
    "    individuel = {}\n",
    "    for S in structList:\n",
    "        probaVoisins[S] = {}\n",
    "        for AA in acidList:\n",
    "            probaVoisins[S][AA] = {}\n",
    "            for AA2 in acidList:\n",
    "                probaVoisins[S][AA][AA2] = {}\n",
    "                \n",
    "    for R in acidList:\n",
    "        individuel[R] = {\"H\" : 0, \"C\" : 0, \"E\" : 0}\n",
    "    \n",
    "    for R in acidList:\n",
    "        for S in range(len(structList)):\n",
    "            fsr  = float(affiliate[R][structList[S]])\n",
    "            fnsr = float(affiliate[R][structList[(S+1)%3]] + affiliate[R][structList[(S+2)%3]])\n",
    "            fns  = float(struct_count[structList[(S+1)%3]] + struct_count[structList[(S+2)%3]])\n",
    "            fs   = float(struct_count[structList[S]])\n",
    "            if fnsr != 0 and fs != 0 and fsr != 0 and fns != 0:\n",
    "                individuel[R][structList[S]] = log10(fsr/fnsr) + log10(fns/fs)\n",
    "\n",
    "\n",
    "    for S in structList:\n",
    "        for AA in acidList:\n",
    "            for AA2 in acidList:\n",
    "                fsr  = float(voisins[S][AA][AA2])\n",
    "                if S == \"H\":\n",
    "                    fnsr = float(voisins[\"E\"][AA][AA2] + voisins[\"C\"][AA][AA2])\n",
    "                    fns  = float(affiliate[AA][\"E\"] + affiliate[AA][\"C\"])\n",
    "                elif S == \"C\":\n",
    "                    fnsr = float(voisins[\"E\"][AA][AA2] + voisins[\"H\"][AA][AA2])\n",
    "                    fns  = float(affiliate[AA][\"E\"] + affiliate[AA][\"H\"])\n",
    "                elif S == \"E\":\n",
    "                    fnsr = float(voisins[\"H\"][AA][AA2] + voisins[\"C\"][AA][AA2])\n",
    "                    fns  = float(affiliate[AA][\"H\"] + affiliate[AA][\"C\"])\n",
    "                fs   = float(affiliate[AA][S])\n",
    "                if fnsr != 0 and fs != 0 and fsr != 0 and fns != 0:\n",
    "                    probaVoisins[S][AA][AA2] = log10(fsr/fnsr) + log10(fns/fs)\n",
    "                    \n",
    "    return individuel, probaVoisins"
   ]
  },
  {
   "cell_type": "code",
   "execution_count": 43,
   "metadata": {},
   "outputs": [
    {
     "name": "stdout",
     "output_type": "stream",
     "text": [
      "0.27030196937788364\n"
     ]
    }
   ],
   "source": [
    "I, probaVoisins = propension(indi, voisin, struct)\n",
    "print(I[\"A\"][\"H\"])"
   ]
  },
  {
   "cell_type": "markdown",
   "metadata": {},
   "source": [
    "## Q3 et MCC\n",
    "\n",
    "Maintenant que nous avons notre modèle, nous allons pouvoir parcourir nos 713 protéines de test et essayer de prédire leur structure secondaire. En faisant cette prédiction, nous allons calculer Q3 et MCC pour avoir une estimation de l'exactitude de notre prédiction. "
   ]
  },
  {
   "cell_type": "code",
   "execution_count": 48,
   "metadata": {
    "collapsed": true
   },
   "outputs": [],
   "source": [
    "def values(indi, voisins):\n",
    "    individuel = indi\n",
    "    probaVoisins = voisins\n",
    "    structList = [\"H\", \"C\", \"E\"]\n",
    "    acidList = \"ARDNCEQGHILKMFPSTWYV\"\n",
    "    myfile = open(\"data.txt\", \"r\")\n",
    "    i = 0\n",
    "    Q3 = []\n",
    "    TP = 0\n",
    "    FP = 0\n",
    "    TN = 0\n",
    "    FN = 0\n",
    "    chaine = \"\"\n",
    "    struct = \"\"\n",
    "    for line in myfile:\n",
    "        if i >= 9002:\n",
    "            line = line.replace(\"\\n\", \"\")\n",
    "            if i%3 == 1:\n",
    "                chaine = line\n",
    "            elif i % 3 == 2:\n",
    "                struct = line\n",
    "            else:\n",
    "                if chaine != \"\":\n",
    "                    nice = 0\n",
    "                    for j in range(len(chaine)):\n",
    "                        structValues = []\n",
    "                        for S in structList:\n",
    "                            val = individuel[chaine[j]][S]\n",
    "                            for k in range(-8, 9):\n",
    "                                if j+k >= 0 and j+k <= len(chaine)-1 and k!= 0:\n",
    "                                    val += probaVoisins[S][chaine[j]][chaine[j+k]]\n",
    "                            structValues.append(val)\n",
    "\n",
    "                        myGuess = structList[structValues.index(max(structValues))]\n",
    "                        if myGuess == struct[j]:\n",
    "                            nice += 1\n",
    "                            if struct[j] == \"H\":\n",
    "                                TP += 1\n",
    "                            elif struct[j] == \"E\" or struct[j] == \"C\":\n",
    "                                TN += 1\n",
    "                        else:\n",
    "                            if myGuess == \"H\" and (struct[j] == \"E\" or struct[j] == \"C\"):\n",
    "                                FN += 1\n",
    "                            elif (myGuess == \"C\" or myGuess == \"E\") and struct[j] == \"H\":\n",
    "                                FP += 1\n",
    "                            elif (myGuess == \"C\" and struct[j] == \"E\") or (myGuess == \"E\" and struct[j] == \"C\"):\n",
    "                                TN += 1\n",
    "\n",
    "                    Q3.append(nice/len(chaine))\n",
    "                chaine = \"\"\n",
    "                struct = \"\"\n",
    "        i += 1\n",
    "\n",
    "    print(mean(Q3))\n",
    "    MCC = (TP*TN - FP*FN) / sqrt((TP+FP)*(TP+FN)*(TN*FP)*(TN+FN))\n",
    "    print(MCC)"
   ]
  },
  {
   "cell_type": "code",
   "execution_count": 49,
   "metadata": {},
   "outputs": [
    {
     "name": "stdout",
     "output_type": "stream",
     "text": [
      "0.5237119420743639\n",
      "0.0023684202003151737\n"
     ]
    }
   ],
   "source": [
    "values(I, probaVoisins)"
   ]
  },
  {
   "cell_type": "markdown",
   "metadata": {},
   "source": [
    "# Résultats"
   ]
  },
  {
   "cell_type": "markdown",
   "metadata": {},
   "source": [
    "# Observation & discussion"
   ]
  },
  {
   "cell_type": "markdown",
   "metadata": {},
   "source": [
    "# Conclusion"
   ]
  }
 ],
 "metadata": {
  "kernelspec": {
   "display_name": "Python 3",
   "language": "python",
   "name": "python3"
  },
  "language_info": {
   "codemirror_mode": {
    "name": "ipython",
    "version": 3
   },
   "file_extension": ".py",
   "mimetype": "text/x-python",
   "name": "python",
   "nbconvert_exporter": "python",
   "pygments_lexer": "ipython3",
   "version": "3.6.1"
  }
 },
 "nbformat": 4,
 "nbformat_minor": 2
}
