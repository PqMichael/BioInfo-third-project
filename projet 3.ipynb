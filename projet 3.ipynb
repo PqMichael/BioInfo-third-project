{
 "cells": [
  {
   "cell_type": "markdown",
   "metadata": {},
   "source": [
    "# Mini\tprojet\t3\t:\tPrédiction\tde\tla\tstructure\tsecondaire\tavec\tGOR\n",
    "\n",
    "***\n",
    "\n",
    "**PAQUET Michael (000410753) BA-INFO**"
   ]
  },
  {
   "cell_type": "markdown",
   "metadata": {},
   "source": [
    "# Introduction\n",
    "\n",
    "Dans le milieu biologique, les protéines peuvent être représentées sous différentes structures en fonction de nos besoins.\n",
    "Celles-ci sont connues sont le nom de structure primaire resprésentant les protéines sous forme de chaine d'acides aminés, structure secondaire représentant la protéine sous forme d'α-hélices, de β-brins et de coils. Il existe également les structures tertiaires et quaternaire, mais elles ne feront pas l'objet de cette étude-ci.\n",
    "\n",
    "Afin d'obtenir diverses informations sur une protéine donnée, il est intéressant d'en connaitre sa structure secondaire. C'est pourquoi nous allons parler de methodes nous permettant de prédire cette structure avec un taux d'exactitude relativement élevé. \n",
    "\n",
    "Au cours de ce projet-ci, l'algorithme de GOR III a été choisi afin de répondre à notre problématique. Celui-ci permet théoriquement d'avoir un taux d'exactitude nommé Q3 de 63%. Nous allons donc implémenter GOR III, et sur base de données, allons obtenir des résultats dont nous pourrons finalement discuter. \n",
    "\n",
    "Voici brièvement comment fonctionne GOR III :\n",
    "sur base d'un jeu de donnée, l'algorithme créera un modèle constitué d'informations individuelles et d'informations par pair.\n",
    "- Les informations individuelles sont des propensions représentant \"la chaince qu'un acide aminé R soit de structure S\".\n",
    "- Les informations par pair indiquent le nombre de fois qu'on a croisé un acide aminé Y dans le voisinage de R. \n",
    "\n",
    "Ainsi, lorsque nous parcourrons une protéine donnée, nous ferons appel à notre modèle calculé précédemment afin d'en prédire la structure secondaire. "
   ]
  },
  {
   "cell_type": "markdown",
   "metadata": {},
   "source": [
    "# Implémentation\n",
    "\n",
    "Avant de commencer à réfléchir sur la façon d'implémenter GOR III, il nous faut tout d'abord collecter de façon intélligente les informations dont nous disposons dans un jeu de donnée. Ce jeu de donnée est composé de 3713 protéines. 3000 d'entre elles serviront à construire notre modèle, tandis que les 713 autres seront soumis à notre algorithme. Afin de simplifier cette collection de donnée, les identifiants de chacune des protéines seront listées dans un fichier texte nommé \"CATH_info\". D'autre part, dans un autre dossier nommé \"dssp\", un fichier texte par protéine dont le nom en est l'identifiant sera présent. \n",
    "\n",
    "Au cours du parsing des données, nous allons donc parcourir CATH_info, et pour chaque identifiant nous parcourrons le fichier de la protéine lié à cet identifiant pour en retirer les informations nous étant utiles. "
   ]
  },
  {
   "cell_type": "code",
   "execution_count": 12,
   "metadata": {},
   "outputs": [],
   "source": [
    "def parsing(myFile):\n",
    "    myfile = open(myFile, \"r\")\n",
    "    for line in myfile:\n",
    "        current = line.replace(\"\\n\", \"\").split(\" \")\n",
    "        ID = current[0][0:4] #ID de la protéine à parser\n",
    "        chaine = current[0][4] #Chaine à regarder uniquement\n",
    "        dsspFile = \"dataset/dssp/\" + ID + \".dssp\"\n",
    "        parsingDSSP(dsspFile, chaine)"
   ]
  },
  {
   "cell_type": "markdown",
   "metadata": {},
   "source": [
    "__Parsing :__\n",
    "\n",
    "A noter que dans CATH_info, deux informations sont présentes mais seule la première nous intéresse. \n",
    "L'information que nous collectons est composé de l'ID de la protéine, ainsi que la chaine à regarder. En effet, il existe des doublons, c'est pourquoi le fichier nous donne en plus de l'ID la chaine à regarder pour chaque protéine. \n",
    "Nous pouvons donc finalement parser le fichiers des protéines."
   ]
  },
  {
   "cell_type": "code",
   "execution_count": 13,
   "metadata": {},
   "outputs": [],
   "source": [
    "def parsingDSSP(myFile, chaine):\n",
    "    myfile = open(myFile, \"r\")\n",
    "    parsedFile = open(\"data.txt\", \"a\")\n",
    "    cList = ['p', 'q', 'n', 'd', 'l', 'e', 'b', 'f', 'o', 'c', 'k', 'r', 'a', 'm', 'h', 'j', 'g', 'i']\n",
    "    dic = {\"H\" : \"H\", \"G\" : \"H\", \"I\" : \"H\", \"E\" : \"E\", \"B\" : \"E\", \"T\" : \"C\", \"C\" : \"C\", \"S\" : \"C\", \" \": \"C\"}\n",
    "    notAA = [\"X\", \"B\", \"Z\"]\n",
    "    sequence = \"\"\n",
    "    structure = \"\"\n",
    "    reading = False\n",
    "    parsedFile.write(\"> identifier|protein name|organism\\n\")\n",
    "    for line in myfile:\n",
    "        if line[0:3] == \"  #\":\n",
    "            reading = True\n",
    "        elif reading:\n",
    "            if line[11] == chaine:\n",
    "                AA = line[13]\n",
    "                if AA in cList:\n",
    "                    AA = \"C\"\n",
    "                if AA not in notAA:\n",
    "                    sequence += AA\n",
    "                    structure += dic[line[16]]\n",
    "    parsedFile.write(sequence)\n",
    "    parsedFile.write(\"\\n\")\n",
    "    parsedFile.write(structure)\n",
    "    parsedFile.write(\"\\n\")"
   ]
  },
  {
   "cell_type": "markdown",
   "metadata": {},
   "source": [
    "__parsingDSSP :__\n",
    "\n",
    "Maintenant qu'on est en sein de notre fichier protéine, il nous faut collecter les informations pertinentes. \n",
    "Dans ce fichier, les données sont structurée de cette façon : \n",
    "- __Numéro de l'AA - Résidu - AA - Structure__, où \"-\" représente un espace. \n",
    "\n",
    "D'autres informations sont également présentes, mais sont inutiles dans le cadre de notre projet. Seuls l'acide aminé et sa structure nous intéressent ici.\n",
    "\n",
    "A noter que les lettres minuscules sencés représenter un AA seront remplacées par une Cystéine, ce à quoi sert __cList__.\n",
    "__dico__ nous permet d'associer la structure collectée aux 3 structures principales. En effet, les fichiers présentent plusieurs structures secondaires mais seuls les hélices, les brins et les coils nous intéressent ici. \n",
    "Enfin, __notAA__ nous permet de ne pas prendre en compte certaine lettres ne représentant pas un AA. \n",
    "\n",
    "Tous ces objets nous permettent au final de collecter l'AA et sa structure secondaire associée, afin de les garder dans un fichier nommé \"data.txt\". Ce fichier sera construit comme tel : pour chaque acide aminé : \n",
    "- \\> identifiant\n",
    "- chaine d'AA\n",
    "- structures secondaires associées à chaque AA\n",
    "\n",
    "Voici à titre d'exemple une illustration de ce que donne le fichier \"data.txt\" pour la première protéine listée dans CATH_info. "
   ]
  },
  {
   "cell_type": "code",
   "execution_count": 19,
   "metadata": {},
   "outputs": [
    {
     "name": "stdout",
     "output_type": "stream",
     "text": [
      "Les données sont déjà collectées\n",
      "\n",
      "> identifier|protein name|organism\n",
      "RTDCYGNVNRIDTTGASCKTAKPEGLSYCGVSASKKIAERDLQAMDRYKTIIKKVGEKLCVEPAVIAGIISRESHAGKVLKNGWGDRGNGFGLMQVDKRSHKPQGTWNGEVHITQGTTILINFIKTIQKKFPSWTKDQQLKGGISAYNAGAGNVRSYARMDIGTTHDDYANDVVARAQYYKQHGY\n",
      "CCCCCCCHHHCCCCCECHHHHHHHCCCCCEHHHHHHHHHHCHHHHHCCHHHHHHHHHHHCCCHHHHHHHHHHHHCCCCCCECCECCCCCEECCCCEECCCCCCCCCCCCHHHHHHHHHHHHHHHHHHHHHCCCCCHHHHHHHHHHHHHHCHHHCCCCCCCCCCCHHHCHHHHHHHHHHHHHHCCC\n"
     ]
    }
   ],
   "source": [
    "def main():\n",
    "    try:\n",
    "        open(\"data.txt\", \"r\")\n",
    "        print(\"Les données sont déjà collectées\\n\")\n",
    "    except:\n",
    "        print(\"Parsing des données en cours\")\n",
    "        myFile = \"dataset/CATH_info.txt\"\n",
    "        parsing(myFile)\n",
    "    printedFile = open(\"data.txt\", \"r\")\n",
    "    i = 0\n",
    "    for line in printedFile:\n",
    "        print(line, end = \"\")\n",
    "        i+= 1\n",
    "        if i == 3:\n",
    "            break\n",
    "            \n",
    "main()"
   ]
  },
  {
   "cell_type": "markdown",
   "metadata": {},
   "source": [
    "# Résultats"
   ]
  },
  {
   "cell_type": "markdown",
   "metadata": {},
   "source": [
    "# Observation & discussion"
   ]
  },
  {
   "cell_type": "markdown",
   "metadata": {},
   "source": [
    "# Conclusion"
   ]
  }
 ],
 "metadata": {
  "kernelspec": {
   "display_name": "Python 3",
   "language": "python",
   "name": "python3"
  },
  "language_info": {
   "codemirror_mode": {
    "name": "ipython",
    "version": 3
   },
   "file_extension": ".py",
   "mimetype": "text/x-python",
   "name": "python",
   "nbconvert_exporter": "python",
   "pygments_lexer": "ipython3",
   "version": "3.6.1"
  }
 },
 "nbformat": 4,
 "nbformat_minor": 2
}
